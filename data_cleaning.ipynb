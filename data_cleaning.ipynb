{
 "cells": [
  {
   "cell_type": "code",
   "execution_count": 1,
   "id": "7fa26f6c",
   "metadata": {},
   "outputs": [],
   "source": [
    "import pandas as pd\n",
    "import os\n",
    "# path = \"/550_datasets/\"\n",
    "path = ''"
   ]
  },
  {
   "cell_type": "markdown",
   "id": "8d6f5ac6",
   "metadata": {},
   "source": [
    "# title_basic"
   ]
  },
  {
   "cell_type": "code",
   "execution_count": 2,
   "id": "7dca9ac9",
   "metadata": {},
   "outputs": [],
   "source": [
    "title_basic_df = pd.read_csv(\"title.basics.tsv\", sep='\\t', header=0, low_memory=False, na_values = \"\\\\N\")\n"
   ]
  },
  {
   "cell_type": "code",
   "execution_count": 3,
   "id": "70155c9c",
   "metadata": {},
   "outputs": [
    {
     "data": {
      "text/plain": [
       "(9658791,)"
      ]
     },
     "execution_count": 3,
     "metadata": {},
     "output_type": "execute_result"
    }
   ],
   "source": [
    "title_basic_df['tconst'].shape"
   ]
  },
  {
   "cell_type": "code",
   "execution_count": 4,
   "id": "20ef692c",
   "metadata": {},
   "outputs": [
    {
     "data": {
      "text/plain": [
       "tconst             object\n",
       "titleType          object\n",
       "primaryTitle       object\n",
       "originalTitle      object\n",
       "isAdult           float64\n",
       "startYear         float64\n",
       "endYear           float64\n",
       "runtimeMinutes     object\n",
       "genres             object\n",
       "dtype: object"
      ]
     },
     "execution_count": 4,
     "metadata": {},
     "output_type": "execute_result"
    }
   ],
   "source": [
    "title_basic_df.dtypes"
   ]
  },
  {
   "cell_type": "code",
   "execution_count": 5,
   "id": "a28c0213",
   "metadata": {},
   "outputs": [
    {
     "name": "stderr",
     "output_type": "stream",
     "text": [
      "/Users/shellyren/anaconda3/envs/py36/lib/python3.6/site-packages/IPython/core/interactiveshell.py:3072: DtypeWarning: Columns (7) have mixed types.Specify dtype option on import or set low_memory=False.\n",
      "  interactivity=interactivity, compiler=compiler, result=result)\n"
     ]
    }
   ],
   "source": [
    "title_basic_all_df = pd.read_csv('title_basic_all.csv')"
   ]
  },
  {
   "cell_type": "code",
   "execution_count": 6,
   "id": "281466db",
   "metadata": {},
   "outputs": [
    {
     "data": {
      "text/html": [
       "<div>\n",
       "<style scoped>\n",
       "    .dataframe tbody tr th:only-of-type {\n",
       "        vertical-align: middle;\n",
       "    }\n",
       "\n",
       "    .dataframe tbody tr th {\n",
       "        vertical-align: top;\n",
       "    }\n",
       "\n",
       "    .dataframe thead th {\n",
       "        text-align: right;\n",
       "    }\n",
       "</style>\n",
       "<table border=\"1\" class=\"dataframe\">\n",
       "  <thead>\n",
       "    <tr style=\"text-align: right;\">\n",
       "      <th></th>\n",
       "      <th>tconst</th>\n",
       "      <th>titleType</th>\n",
       "      <th>primaryTitle</th>\n",
       "      <th>originalTitle</th>\n",
       "      <th>isAdult</th>\n",
       "      <th>startYear</th>\n",
       "      <th>endYear</th>\n",
       "      <th>runtimeMinutes</th>\n",
       "      <th>genres</th>\n",
       "    </tr>\n",
       "  </thead>\n",
       "  <tbody>\n",
       "    <tr>\n",
       "      <th>0</th>\n",
       "      <td>tt0000001</td>\n",
       "      <td>short</td>\n",
       "      <td>Carmencita</td>\n",
       "      <td>Carmencita</td>\n",
       "      <td>0.0</td>\n",
       "      <td>1894.0</td>\n",
       "      <td>NaN</td>\n",
       "      <td>1</td>\n",
       "      <td>Documentary,Short</td>\n",
       "    </tr>\n",
       "    <tr>\n",
       "      <th>1</th>\n",
       "      <td>tt0000002</td>\n",
       "      <td>short</td>\n",
       "      <td>Le clown et ses chiens</td>\n",
       "      <td>Le clown et ses chiens</td>\n",
       "      <td>0.0</td>\n",
       "      <td>1892.0</td>\n",
       "      <td>NaN</td>\n",
       "      <td>5</td>\n",
       "      <td>Animation,Short</td>\n",
       "    </tr>\n",
       "    <tr>\n",
       "      <th>2</th>\n",
       "      <td>tt0000003</td>\n",
       "      <td>short</td>\n",
       "      <td>Pauvre Pierrot</td>\n",
       "      <td>Pauvre Pierrot</td>\n",
       "      <td>0.0</td>\n",
       "      <td>1892.0</td>\n",
       "      <td>NaN</td>\n",
       "      <td>4</td>\n",
       "      <td>Animation,Comedy,Romance</td>\n",
       "    </tr>\n",
       "    <tr>\n",
       "      <th>3</th>\n",
       "      <td>tt0000004</td>\n",
       "      <td>short</td>\n",
       "      <td>Un bon bock</td>\n",
       "      <td>Un bon bock</td>\n",
       "      <td>0.0</td>\n",
       "      <td>1892.0</td>\n",
       "      <td>NaN</td>\n",
       "      <td>12</td>\n",
       "      <td>Animation,Short</td>\n",
       "    </tr>\n",
       "    <tr>\n",
       "      <th>4</th>\n",
       "      <td>tt0000005</td>\n",
       "      <td>short</td>\n",
       "      <td>Blacksmith Scene</td>\n",
       "      <td>Blacksmith Scene</td>\n",
       "      <td>0.0</td>\n",
       "      <td>1893.0</td>\n",
       "      <td>NaN</td>\n",
       "      <td>1</td>\n",
       "      <td>Comedy,Short</td>\n",
       "    </tr>\n",
       "  </tbody>\n",
       "</table>\n",
       "</div>"
      ],
      "text/plain": [
       "      tconst titleType            primaryTitle           originalTitle  \\\n",
       "0  tt0000001     short              Carmencita              Carmencita   \n",
       "1  tt0000002     short  Le clown et ses chiens  Le clown et ses chiens   \n",
       "2  tt0000003     short          Pauvre Pierrot          Pauvre Pierrot   \n",
       "3  tt0000004     short             Un bon bock             Un bon bock   \n",
       "4  tt0000005     short        Blacksmith Scene        Blacksmith Scene   \n",
       "\n",
       "   isAdult  startYear  endYear runtimeMinutes                    genres  \n",
       "0      0.0     1894.0      NaN              1         Documentary,Short  \n",
       "1      0.0     1892.0      NaN              5           Animation,Short  \n",
       "2      0.0     1892.0      NaN              4  Animation,Comedy,Romance  \n",
       "3      0.0     1892.0      NaN             12           Animation,Short  \n",
       "4      0.0     1893.0      NaN              1              Comedy,Short  "
      ]
     },
     "execution_count": 6,
     "metadata": {},
     "output_type": "execute_result"
    }
   ],
   "source": [
    "title_basic_all_df.head()"
   ]
  },
  {
   "cell_type": "code",
   "execution_count": 4,
   "id": "1e044ce5",
   "metadata": {},
   "outputs": [
    {
     "data": {
      "text/plain": [
       "tvEpisode       7322001\n",
       "short            916809\n",
       "movie            637296\n",
       "video            270922\n",
       "tvSeries         239478\n",
       "tvMovie          140570\n",
       "tvMiniSeries      47482\n",
       "tvSpecial         40663\n",
       "videoGame         33613\n",
       "tvShort            9955\n",
       "tvPilot               2\n",
       "Name: titleType, dtype: int64"
      ]
     },
     "execution_count": 4,
     "metadata": {},
     "output_type": "execute_result"
    }
   ],
   "source": [
    "title_basic_df['titleType'].value_counts()"
   ]
  },
  {
   "cell_type": "code",
   "execution_count": 5,
   "id": "28b9d6c4",
   "metadata": {},
   "outputs": [],
   "source": [
    "title_basic_df_tmp = title_basic_df[title_basic_df['titleType'] != 'tvEpisode']"
   ]
  },
  {
   "cell_type": "code",
   "execution_count": 6,
   "id": "9be8e067",
   "metadata": {},
   "outputs": [],
   "source": [
    "title_basic_df_tmp = title_basic_df_tmp[title_basic_df_tmp['startYear'] > 2019]"
   ]
  },
  {
   "cell_type": "code",
   "execution_count": 7,
   "id": "32378a11",
   "metadata": {},
   "outputs": [
    {
     "data": {
      "text/html": [
       "<div>\n",
       "<style scoped>\n",
       "    .dataframe tbody tr th:only-of-type {\n",
       "        vertical-align: middle;\n",
       "    }\n",
       "\n",
       "    .dataframe tbody tr th {\n",
       "        vertical-align: top;\n",
       "    }\n",
       "\n",
       "    .dataframe thead th {\n",
       "        text-align: right;\n",
       "    }\n",
       "</style>\n",
       "<table border=\"1\" class=\"dataframe\">\n",
       "  <thead>\n",
       "    <tr style=\"text-align: right;\">\n",
       "      <th></th>\n",
       "      <th>tconst</th>\n",
       "      <th>titleType</th>\n",
       "      <th>primaryTitle</th>\n",
       "      <th>originalTitle</th>\n",
       "      <th>isAdult</th>\n",
       "      <th>startYear</th>\n",
       "      <th>endYear</th>\n",
       "      <th>runtimeMinutes</th>\n",
       "      <th>genres</th>\n",
       "    </tr>\n",
       "  </thead>\n",
       "  <tbody>\n",
       "    <tr>\n",
       "      <th>13082</th>\n",
       "      <td>tt0013274</td>\n",
       "      <td>movie</td>\n",
       "      <td>Istoriya grazhdanskoy voyny</td>\n",
       "      <td>Istoriya grazhdanskoy voyny</td>\n",
       "      <td>0.0</td>\n",
       "      <td>2021.0</td>\n",
       "      <td>NaN</td>\n",
       "      <td>133</td>\n",
       "      <td>Documentary</td>\n",
       "    </tr>\n",
       "    <tr>\n",
       "      <th>39545</th>\n",
       "      <td>tt0040241</td>\n",
       "      <td>short</td>\n",
       "      <td>Color Rhapsodie</td>\n",
       "      <td>Color Rhapsodie</td>\n",
       "      <td>0.0</td>\n",
       "      <td>2021.0</td>\n",
       "      <td>NaN</td>\n",
       "      <td>6</td>\n",
       "      <td>Short</td>\n",
       "    </tr>\n",
       "    <tr>\n",
       "      <th>43548</th>\n",
       "      <td>tt0044326</td>\n",
       "      <td>short</td>\n",
       "      <td>Abstronic</td>\n",
       "      <td>Abstronic</td>\n",
       "      <td>0.0</td>\n",
       "      <td>2021.0</td>\n",
       "      <td>NaN</td>\n",
       "      <td>6</td>\n",
       "      <td>Short</td>\n",
       "    </tr>\n",
       "    <tr>\n",
       "      <th>44090</th>\n",
       "      <td>tt0044879</td>\n",
       "      <td>short</td>\n",
       "      <td>Mandala</td>\n",
       "      <td>Mandala</td>\n",
       "      <td>0.0</td>\n",
       "      <td>2021.0</td>\n",
       "      <td>NaN</td>\n",
       "      <td>3</td>\n",
       "      <td>Short</td>\n",
       "    </tr>\n",
       "    <tr>\n",
       "      <th>55758</th>\n",
       "      <td>tt0056840</td>\n",
       "      <td>short</td>\n",
       "      <td>Aufsätze</td>\n",
       "      <td>Aufsätze</td>\n",
       "      <td>0.0</td>\n",
       "      <td>2021.0</td>\n",
       "      <td>NaN</td>\n",
       "      <td>10</td>\n",
       "      <td>Short</td>\n",
       "    </tr>\n",
       "  </tbody>\n",
       "</table>\n",
       "</div>"
      ],
      "text/plain": [
       "          tconst titleType                 primaryTitle  \\\n",
       "13082  tt0013274     movie  Istoriya grazhdanskoy voyny   \n",
       "39545  tt0040241     short              Color Rhapsodie   \n",
       "43548  tt0044326     short                    Abstronic   \n",
       "44090  tt0044879     short                      Mandala   \n",
       "55758  tt0056840     short                     Aufsätze   \n",
       "\n",
       "                     originalTitle  isAdult  startYear  endYear  \\\n",
       "13082  Istoriya grazhdanskoy voyny      0.0     2021.0      NaN   \n",
       "39545              Color Rhapsodie      0.0     2021.0      NaN   \n",
       "43548                    Abstronic      0.0     2021.0      NaN   \n",
       "44090                      Mandala      0.0     2021.0      NaN   \n",
       "55758                     Aufsätze      0.0     2021.0      NaN   \n",
       "\n",
       "      runtimeMinutes       genres  \n",
       "13082            133  Documentary  \n",
       "39545              6        Short  \n",
       "43548              6        Short  \n",
       "44090              3        Short  \n",
       "55758             10        Short  "
      ]
     },
     "execution_count": 7,
     "metadata": {},
     "output_type": "execute_result"
    }
   ],
   "source": [
    "title_basic_df_tmp.head()"
   ]
  },
  {
   "cell_type": "code",
   "execution_count": 8,
   "id": "a7747f23",
   "metadata": {},
   "outputs": [
    {
     "data": {
      "text/plain": [
       "(266778, 9)"
      ]
     },
     "execution_count": 8,
     "metadata": {},
     "output_type": "execute_result"
    }
   ],
   "source": [
    "title_basic_df_tmp.shape"
   ]
  },
  {
   "cell_type": "code",
   "execution_count": 57,
   "id": "6bb544e6",
   "metadata": {},
   "outputs": [
    {
     "data": {
      "text/plain": [
       "2020.0    91886\n",
       "2021.0    88830\n",
       "2022.0    72290\n",
       "2023.0    13291\n",
       "2024.0      366\n",
       "2025.0       79\n",
       "2026.0       21\n",
       "2027.0        9\n",
       "2029.0        3\n",
       "2030.0        2\n",
       "2028.0        1\n",
       "Name: startYear, dtype: int64"
      ]
     },
     "execution_count": 57,
     "metadata": {},
     "output_type": "execute_result"
    }
   ],
   "source": [
    "title_basic_df_tmp['startYear'].value_counts()"
   ]
  },
  {
   "cell_type": "code",
   "execution_count": 9,
   "id": "9e899c6c",
   "metadata": {},
   "outputs": [],
   "source": [
    "title_basic_df_tmp.to_csv('partial/title_basic.csv', index=False)"
   ]
  },
  {
   "cell_type": "code",
   "execution_count": 45,
   "id": "e1481ba7",
   "metadata": {},
   "outputs": [
    {
     "data": {
      "text/plain": [
       "266778"
      ]
     },
     "execution_count": 45,
     "metadata": {},
     "output_type": "execute_result"
    }
   ],
   "source": [
    "len(set(title_basic_df_tmp['tconst'].tolist()))"
   ]
  },
  {
   "cell_type": "code",
   "execution_count": 56,
   "id": "1ec53621",
   "metadata": {},
   "outputs": [
    {
     "data": {
      "text/html": [
       "<div>\n",
       "<style scoped>\n",
       "    .dataframe tbody tr th:only-of-type {\n",
       "        vertical-align: middle;\n",
       "    }\n",
       "\n",
       "    .dataframe tbody tr th {\n",
       "        vertical-align: top;\n",
       "    }\n",
       "\n",
       "    .dataframe thead th {\n",
       "        text-align: right;\n",
       "    }\n",
       "</style>\n",
       "<table border=\"1\" class=\"dataframe\">\n",
       "  <thead>\n",
       "    <tr style=\"text-align: right;\">\n",
       "      <th></th>\n",
       "      <th>tconst</th>\n",
       "      <th>titleType</th>\n",
       "      <th>primaryTitle</th>\n",
       "      <th>originalTitle</th>\n",
       "      <th>isAdult</th>\n",
       "      <th>startYear</th>\n",
       "      <th>endYear</th>\n",
       "      <th>runtimeMinutes</th>\n",
       "      <th>genres</th>\n",
       "    </tr>\n",
       "  </thead>\n",
       "  <tbody>\n",
       "    <tr>\n",
       "      <th>969960</th>\n",
       "      <td>tt1000403</td>\n",
       "      <td>tvEpisode</td>\n",
       "      <td>Gnarly North Pole</td>\n",
       "      <td>Gnarly North Pole</td>\n",
       "      <td>0.0</td>\n",
       "      <td>2002.0</td>\n",
       "      <td>NaN</td>\n",
       "      <td>24</td>\n",
       "      <td>Animation</td>\n",
       "    </tr>\n",
       "  </tbody>\n",
       "</table>\n",
       "</div>"
      ],
      "text/plain": [
       "           tconst  titleType       primaryTitle      originalTitle  isAdult  \\\n",
       "969960  tt1000403  tvEpisode  Gnarly North Pole  Gnarly North Pole      0.0   \n",
       "\n",
       "        startYear  endYear runtimeMinutes     genres  \n",
       "969960     2002.0      NaN             24  Animation  "
      ]
     },
     "execution_count": 56,
     "metadata": {},
     "output_type": "execute_result"
    }
   ],
   "source": [
    "title_basic_df[title_basic_df['tconst'] =='tt1000403']"
   ]
  },
  {
   "cell_type": "code",
   "execution_count": 55,
   "id": "efc8447a",
   "metadata": {},
   "outputs": [
    {
     "data": {
      "text/html": [
       "<div>\n",
       "<style scoped>\n",
       "    .dataframe tbody tr th:only-of-type {\n",
       "        vertical-align: middle;\n",
       "    }\n",
       "\n",
       "    .dataframe tbody tr th {\n",
       "        vertical-align: top;\n",
       "    }\n",
       "\n",
       "    .dataframe thead th {\n",
       "        text-align: right;\n",
       "    }\n",
       "</style>\n",
       "<table border=\"1\" class=\"dataframe\">\n",
       "  <thead>\n",
       "    <tr style=\"text-align: right;\">\n",
       "      <th></th>\n",
       "      <th>tconst</th>\n",
       "      <th>titleType</th>\n",
       "      <th>primaryTitle</th>\n",
       "      <th>originalTitle</th>\n",
       "      <th>isAdult</th>\n",
       "      <th>startYear</th>\n",
       "      <th>endYear</th>\n",
       "      <th>runtimeMinutes</th>\n",
       "      <th>genres</th>\n",
       "    </tr>\n",
       "  </thead>\n",
       "  <tbody>\n",
       "  </tbody>\n",
       "</table>\n",
       "</div>"
      ],
      "text/plain": [
       "Empty DataFrame\n",
       "Columns: [tconst, titleType, primaryTitle, originalTitle, isAdult, startYear, endYear, runtimeMinutes, genres]\n",
       "Index: []"
      ]
     },
     "execution_count": 55,
     "metadata": {},
     "output_type": "execute_result"
    }
   ],
   "source": [
    "title_basic_df_tmp[title_basic_df_tmp['tconst'] =='tt1000403']"
   ]
  },
  {
   "cell_type": "markdown",
   "id": "fffb5faa",
   "metadata": {},
   "source": [
    "# title_aka"
   ]
  },
  {
   "cell_type": "code",
   "execution_count": 10,
   "id": "0469ec3d",
   "metadata": {},
   "outputs": [],
   "source": [
    "tconst_lst = title_basic_df_tmp['tconst'].tolist()"
   ]
  },
  {
   "cell_type": "code",
   "execution_count": 11,
   "id": "c841ce39",
   "metadata": {},
   "outputs": [
    {
     "data": {
      "text/plain": [
       "266778"
      ]
     },
     "execution_count": 11,
     "metadata": {},
     "output_type": "execute_result"
    }
   ],
   "source": [
    "len(tconst_lst)"
   ]
  },
  {
   "cell_type": "code",
   "execution_count": 7,
   "id": "a83b0e77",
   "metadata": {},
   "outputs": [],
   "source": [
    "title_aka_df = pd.read_csv(os.path.join(path, \"title.akas.tsv\"), sep='\\t', header=0, low_memory=False, na_values = \"\\\\N\")"
   ]
  },
  {
   "cell_type": "code",
   "execution_count": 10,
   "id": "7c62fe4f",
   "metadata": {},
   "outputs": [
    {
     "data": {
      "text/html": [
       "<div>\n",
       "<style scoped>\n",
       "    .dataframe tbody tr th:only-of-type {\n",
       "        vertical-align: middle;\n",
       "    }\n",
       "\n",
       "    .dataframe tbody tr th {\n",
       "        vertical-align: top;\n",
       "    }\n",
       "\n",
       "    .dataframe thead th {\n",
       "        text-align: right;\n",
       "    }\n",
       "</style>\n",
       "<table border=\"1\" class=\"dataframe\">\n",
       "  <thead>\n",
       "    <tr style=\"text-align: right;\">\n",
       "      <th></th>\n",
       "      <th>titleId</th>\n",
       "      <th>ordering</th>\n",
       "      <th>title</th>\n",
       "      <th>region</th>\n",
       "      <th>language</th>\n",
       "      <th>types</th>\n",
       "      <th>attributes</th>\n",
       "      <th>isOriginalTitle</th>\n",
       "    </tr>\n",
       "  </thead>\n",
       "  <tbody>\n",
       "    <tr>\n",
       "      <th>0</th>\n",
       "      <td>tt0000001</td>\n",
       "      <td>1</td>\n",
       "      <td>Карменсіта</td>\n",
       "      <td>UA</td>\n",
       "      <td>NaN</td>\n",
       "      <td>imdbDisplay</td>\n",
       "      <td>NaN</td>\n",
       "      <td>0.0</td>\n",
       "    </tr>\n",
       "    <tr>\n",
       "      <th>1</th>\n",
       "      <td>tt0000001</td>\n",
       "      <td>2</td>\n",
       "      <td>Carmencita</td>\n",
       "      <td>DE</td>\n",
       "      <td>NaN</td>\n",
       "      <td>NaN</td>\n",
       "      <td>literal title</td>\n",
       "      <td>0.0</td>\n",
       "    </tr>\n",
       "    <tr>\n",
       "      <th>2</th>\n",
       "      <td>tt0000001</td>\n",
       "      <td>3</td>\n",
       "      <td>Carmencita - spanyol tánc</td>\n",
       "      <td>HU</td>\n",
       "      <td>NaN</td>\n",
       "      <td>imdbDisplay</td>\n",
       "      <td>NaN</td>\n",
       "      <td>0.0</td>\n",
       "    </tr>\n",
       "    <tr>\n",
       "      <th>3</th>\n",
       "      <td>tt0000001</td>\n",
       "      <td>4</td>\n",
       "      <td>Καρμενσίτα</td>\n",
       "      <td>GR</td>\n",
       "      <td>NaN</td>\n",
       "      <td>imdbDisplay</td>\n",
       "      <td>NaN</td>\n",
       "      <td>0.0</td>\n",
       "    </tr>\n",
       "    <tr>\n",
       "      <th>4</th>\n",
       "      <td>tt0000001</td>\n",
       "      <td>5</td>\n",
       "      <td>Карменсита</td>\n",
       "      <td>RU</td>\n",
       "      <td>NaN</td>\n",
       "      <td>imdbDisplay</td>\n",
       "      <td>NaN</td>\n",
       "      <td>0.0</td>\n",
       "    </tr>\n",
       "  </tbody>\n",
       "</table>\n",
       "</div>"
      ],
      "text/plain": [
       "     titleId  ordering                      title region language  \\\n",
       "0  tt0000001         1                 Карменсіта     UA      NaN   \n",
       "1  tt0000001         2                 Carmencita     DE      NaN   \n",
       "2  tt0000001         3  Carmencita - spanyol tánc     HU      NaN   \n",
       "3  tt0000001         4                 Καρμενσίτα     GR      NaN   \n",
       "4  tt0000001         5                 Карменсита     RU      NaN   \n",
       "\n",
       "         types     attributes  isOriginalTitle  \n",
       "0  imdbDisplay            NaN              0.0  \n",
       "1          NaN  literal title              0.0  \n",
       "2  imdbDisplay            NaN              0.0  \n",
       "3  imdbDisplay            NaN              0.0  \n",
       "4  imdbDisplay            NaN              0.0  "
      ]
     },
     "execution_count": 10,
     "metadata": {},
     "output_type": "execute_result"
    }
   ],
   "source": [
    "title_aka_df.head()"
   ]
  },
  {
   "cell_type": "code",
   "execution_count": 11,
   "id": "175e4a1c",
   "metadata": {},
   "outputs": [],
   "source": [
    "#\n",
    "# title_aka_tmp_df = title_aka_df[title_aka_df['titleId'].isin(tconst_lst)].drop(['types', 'attributes'], axis=1)\n",
    "title_aka_tmp_df = title_aka_df.drop(['types', 'attributes'], axis=1)\n",
    "# title_aka_tmp_df = title_aka_tmp_df.dropna()"
   ]
  },
  {
   "cell_type": "code",
   "execution_count": 12,
   "id": "cc235b00",
   "metadata": {},
   "outputs": [
    {
     "data": {
      "text/html": [
       "<div>\n",
       "<style scoped>\n",
       "    .dataframe tbody tr th:only-of-type {\n",
       "        vertical-align: middle;\n",
       "    }\n",
       "\n",
       "    .dataframe tbody tr th {\n",
       "        vertical-align: top;\n",
       "    }\n",
       "\n",
       "    .dataframe thead th {\n",
       "        text-align: right;\n",
       "    }\n",
       "</style>\n",
       "<table border=\"1\" class=\"dataframe\">\n",
       "  <thead>\n",
       "    <tr style=\"text-align: right;\">\n",
       "      <th></th>\n",
       "      <th>titleId</th>\n",
       "      <th>ordering</th>\n",
       "      <th>title</th>\n",
       "      <th>region</th>\n",
       "      <th>language</th>\n",
       "      <th>isOriginalTitle</th>\n",
       "    </tr>\n",
       "  </thead>\n",
       "  <tbody>\n",
       "    <tr>\n",
       "      <th>0</th>\n",
       "      <td>tt0000001</td>\n",
       "      <td>1</td>\n",
       "      <td>Карменсіта</td>\n",
       "      <td>UA</td>\n",
       "      <td>NaN</td>\n",
       "      <td>0.0</td>\n",
       "    </tr>\n",
       "    <tr>\n",
       "      <th>1</th>\n",
       "      <td>tt0000001</td>\n",
       "      <td>2</td>\n",
       "      <td>Carmencita</td>\n",
       "      <td>DE</td>\n",
       "      <td>NaN</td>\n",
       "      <td>0.0</td>\n",
       "    </tr>\n",
       "    <tr>\n",
       "      <th>2</th>\n",
       "      <td>tt0000001</td>\n",
       "      <td>3</td>\n",
       "      <td>Carmencita - spanyol tánc</td>\n",
       "      <td>HU</td>\n",
       "      <td>NaN</td>\n",
       "      <td>0.0</td>\n",
       "    </tr>\n",
       "    <tr>\n",
       "      <th>3</th>\n",
       "      <td>tt0000001</td>\n",
       "      <td>4</td>\n",
       "      <td>Καρμενσίτα</td>\n",
       "      <td>GR</td>\n",
       "      <td>NaN</td>\n",
       "      <td>0.0</td>\n",
       "    </tr>\n",
       "    <tr>\n",
       "      <th>4</th>\n",
       "      <td>tt0000001</td>\n",
       "      <td>5</td>\n",
       "      <td>Карменсита</td>\n",
       "      <td>RU</td>\n",
       "      <td>NaN</td>\n",
       "      <td>0.0</td>\n",
       "    </tr>\n",
       "    <tr>\n",
       "      <th>...</th>\n",
       "      <td>...</td>\n",
       "      <td>...</td>\n",
       "      <td>...</td>\n",
       "      <td>...</td>\n",
       "      <td>...</td>\n",
       "      <td>...</td>\n",
       "    </tr>\n",
       "    <tr>\n",
       "      <th>35115299</th>\n",
       "      <td>tt9916852</td>\n",
       "      <td>5</td>\n",
       "      <td>Episódio #3.20</td>\n",
       "      <td>PT</td>\n",
       "      <td>pt</td>\n",
       "      <td>0.0</td>\n",
       "    </tr>\n",
       "    <tr>\n",
       "      <th>35115300</th>\n",
       "      <td>tt9916852</td>\n",
       "      <td>6</td>\n",
       "      <td>Episodio #3.20</td>\n",
       "      <td>IT</td>\n",
       "      <td>it</td>\n",
       "      <td>0.0</td>\n",
       "    </tr>\n",
       "    <tr>\n",
       "      <th>35115301</th>\n",
       "      <td>tt9916852</td>\n",
       "      <td>7</td>\n",
       "      <td>एपिसोड #3.20</td>\n",
       "      <td>IN</td>\n",
       "      <td>hi</td>\n",
       "      <td>0.0</td>\n",
       "    </tr>\n",
       "    <tr>\n",
       "      <th>35115302</th>\n",
       "      <td>tt9916856</td>\n",
       "      <td>1</td>\n",
       "      <td>The Wind</td>\n",
       "      <td>DE</td>\n",
       "      <td>NaN</td>\n",
       "      <td>0.0</td>\n",
       "    </tr>\n",
       "    <tr>\n",
       "      <th>35115303</th>\n",
       "      <td>tt9916856</td>\n",
       "      <td>2</td>\n",
       "      <td>The Wind</td>\n",
       "      <td>NaN</td>\n",
       "      <td>NaN</td>\n",
       "      <td>1.0</td>\n",
       "    </tr>\n",
       "  </tbody>\n",
       "</table>\n",
       "<p>35115304 rows × 6 columns</p>\n",
       "</div>"
      ],
      "text/plain": [
       "            titleId  ordering                      title region language  \\\n",
       "0         tt0000001         1                 Карменсіта     UA      NaN   \n",
       "1         tt0000001         2                 Carmencita     DE      NaN   \n",
       "2         tt0000001         3  Carmencita - spanyol tánc     HU      NaN   \n",
       "3         tt0000001         4                 Καρμενσίτα     GR      NaN   \n",
       "4         tt0000001         5                 Карменсита     RU      NaN   \n",
       "...             ...       ...                        ...    ...      ...   \n",
       "35115299  tt9916852         5             Episódio #3.20     PT       pt   \n",
       "35115300  tt9916852         6             Episodio #3.20     IT       it   \n",
       "35115301  tt9916852         7               एपिसोड #3.20     IN       hi   \n",
       "35115302  tt9916856         1                   The Wind     DE      NaN   \n",
       "35115303  tt9916856         2                   The Wind    NaN      NaN   \n",
       "\n",
       "          isOriginalTitle  \n",
       "0                     0.0  \n",
       "1                     0.0  \n",
       "2                     0.0  \n",
       "3                     0.0  \n",
       "4                     0.0  \n",
       "...                   ...  \n",
       "35115299              0.0  \n",
       "35115300              0.0  \n",
       "35115301              0.0  \n",
       "35115302              0.0  \n",
       "35115303              1.0  \n",
       "\n",
       "[35115304 rows x 6 columns]"
      ]
     },
     "execution_count": 12,
     "metadata": {},
     "output_type": "execute_result"
    }
   ],
   "source": [
    "title_aka_tmp_df"
   ]
  },
  {
   "cell_type": "code",
   "execution_count": 13,
   "id": "02997275",
   "metadata": {},
   "outputs": [],
   "source": [
    "# title_aka_tmp_df.to_csv('partial/title_aka.csv', index=False)\n",
    "title_aka_tmp_df.to_csv('all/title_aka.csv', index=False)"
   ]
  },
  {
   "cell_type": "markdown",
   "id": "b493ecc5",
   "metadata": {},
   "source": [
    "# Title_rating"
   ]
  },
  {
   "cell_type": "code",
   "execution_count": 14,
   "id": "a5db019f",
   "metadata": {},
   "outputs": [],
   "source": [
    "title_rating_df = pd.read_csv(\"title.ratings.tsv\", sep='\\t', header=0, low_memory=False, na_values = \"\\\\N\")"
   ]
  },
  {
   "cell_type": "code",
   "execution_count": 15,
   "id": "6e228fad",
   "metadata": {},
   "outputs": [
    {
     "data": {
      "text/html": [
       "<div>\n",
       "<style scoped>\n",
       "    .dataframe tbody tr th:only-of-type {\n",
       "        vertical-align: middle;\n",
       "    }\n",
       "\n",
       "    .dataframe tbody tr th {\n",
       "        vertical-align: top;\n",
       "    }\n",
       "\n",
       "    .dataframe thead th {\n",
       "        text-align: right;\n",
       "    }\n",
       "</style>\n",
       "<table border=\"1\" class=\"dataframe\">\n",
       "  <thead>\n",
       "    <tr style=\"text-align: right;\">\n",
       "      <th></th>\n",
       "      <th>tconst</th>\n",
       "      <th>averageRating</th>\n",
       "      <th>numVotes</th>\n",
       "    </tr>\n",
       "  </thead>\n",
       "  <tbody>\n",
       "    <tr>\n",
       "      <th>0</th>\n",
       "      <td>tt0000001</td>\n",
       "      <td>5.7</td>\n",
       "      <td>1956</td>\n",
       "    </tr>\n",
       "    <tr>\n",
       "      <th>1</th>\n",
       "      <td>tt0000002</td>\n",
       "      <td>5.8</td>\n",
       "      <td>263</td>\n",
       "    </tr>\n",
       "    <tr>\n",
       "      <th>2</th>\n",
       "      <td>tt0000003</td>\n",
       "      <td>6.5</td>\n",
       "      <td>1789</td>\n",
       "    </tr>\n",
       "    <tr>\n",
       "      <th>3</th>\n",
       "      <td>tt0000004</td>\n",
       "      <td>5.6</td>\n",
       "      <td>179</td>\n",
       "    </tr>\n",
       "    <tr>\n",
       "      <th>4</th>\n",
       "      <td>tt0000005</td>\n",
       "      <td>6.2</td>\n",
       "      <td>2592</td>\n",
       "    </tr>\n",
       "    <tr>\n",
       "      <th>...</th>\n",
       "      <td>...</td>\n",
       "      <td>...</td>\n",
       "      <td>...</td>\n",
       "    </tr>\n",
       "    <tr>\n",
       "      <th>1284902</th>\n",
       "      <td>tt9916730</td>\n",
       "      <td>8.3</td>\n",
       "      <td>10</td>\n",
       "    </tr>\n",
       "    <tr>\n",
       "      <th>1284903</th>\n",
       "      <td>tt9916766</td>\n",
       "      <td>7.0</td>\n",
       "      <td>21</td>\n",
       "    </tr>\n",
       "    <tr>\n",
       "      <th>1284904</th>\n",
       "      <td>tt9916778</td>\n",
       "      <td>7.2</td>\n",
       "      <td>36</td>\n",
       "    </tr>\n",
       "    <tr>\n",
       "      <th>1284905</th>\n",
       "      <td>tt9916840</td>\n",
       "      <td>8.8</td>\n",
       "      <td>6</td>\n",
       "    </tr>\n",
       "    <tr>\n",
       "      <th>1284906</th>\n",
       "      <td>tt9916880</td>\n",
       "      <td>8.2</td>\n",
       "      <td>6</td>\n",
       "    </tr>\n",
       "  </tbody>\n",
       "</table>\n",
       "<p>1284907 rows × 3 columns</p>\n",
       "</div>"
      ],
      "text/plain": [
       "            tconst  averageRating  numVotes\n",
       "0        tt0000001            5.7      1956\n",
       "1        tt0000002            5.8       263\n",
       "2        tt0000003            6.5      1789\n",
       "3        tt0000004            5.6       179\n",
       "4        tt0000005            6.2      2592\n",
       "...            ...            ...       ...\n",
       "1284902  tt9916730            8.3        10\n",
       "1284903  tt9916766            7.0        21\n",
       "1284904  tt9916778            7.2        36\n",
       "1284905  tt9916840            8.8         6\n",
       "1284906  tt9916880            8.2         6\n",
       "\n",
       "[1284907 rows x 3 columns]"
      ]
     },
     "execution_count": 15,
     "metadata": {},
     "output_type": "execute_result"
    }
   ],
   "source": [
    "title_rating_df"
   ]
  },
  {
   "cell_type": "code",
   "execution_count": 19,
   "id": "474a4682",
   "metadata": {},
   "outputs": [],
   "source": [
    "title_rating_tmp_df = title_rating_df[title_rating_df['tconst'].isin(tconst_lst)]"
   ]
  },
  {
   "cell_type": "code",
   "execution_count": 20,
   "id": "433b6d7e",
   "metadata": {},
   "outputs": [
    {
     "data": {
      "text/html": [
       "<div>\n",
       "<style scoped>\n",
       "    .dataframe tbody tr th:only-of-type {\n",
       "        vertical-align: middle;\n",
       "    }\n",
       "\n",
       "    .dataframe tbody tr th {\n",
       "        vertical-align: top;\n",
       "    }\n",
       "\n",
       "    .dataframe thead th {\n",
       "        text-align: right;\n",
       "    }\n",
       "</style>\n",
       "<table border=\"1\" class=\"dataframe\">\n",
       "  <thead>\n",
       "    <tr style=\"text-align: right;\">\n",
       "      <th></th>\n",
       "      <th>tconst</th>\n",
       "      <th>averageRating</th>\n",
       "      <th>numVotes</th>\n",
       "    </tr>\n",
       "  </thead>\n",
       "  <tbody>\n",
       "    <tr>\n",
       "      <th>3537</th>\n",
       "      <td>tt0013274</td>\n",
       "      <td>6.6</td>\n",
       "      <td>49</td>\n",
       "    </tr>\n",
       "    <tr>\n",
       "      <th>21759</th>\n",
       "      <td>tt0040241</td>\n",
       "      <td>7.7</td>\n",
       "      <td>16</td>\n",
       "    </tr>\n",
       "    <tr>\n",
       "      <th>25052</th>\n",
       "      <td>tt0044326</td>\n",
       "      <td>6.8</td>\n",
       "      <td>75</td>\n",
       "    </tr>\n",
       "    <tr>\n",
       "      <th>25524</th>\n",
       "      <td>tt0044879</td>\n",
       "      <td>6.4</td>\n",
       "      <td>18</td>\n",
       "    </tr>\n",
       "    <tr>\n",
       "      <th>35800</th>\n",
       "      <td>tt0056840</td>\n",
       "      <td>6.8</td>\n",
       "      <td>95</td>\n",
       "    </tr>\n",
       "    <tr>\n",
       "      <th>...</th>\n",
       "      <td>...</td>\n",
       "      <td>...</td>\n",
       "      <td>...</td>\n",
       "    </tr>\n",
       "    <tr>\n",
       "      <th>1284831</th>\n",
       "      <td>tt9914972</td>\n",
       "      <td>7.2</td>\n",
       "      <td>251</td>\n",
       "    </tr>\n",
       "    <tr>\n",
       "      <th>1284867</th>\n",
       "      <td>tt9916128</td>\n",
       "      <td>6.5</td>\n",
       "      <td>86</td>\n",
       "    </tr>\n",
       "    <tr>\n",
       "      <th>1284870</th>\n",
       "      <td>tt9916190</td>\n",
       "      <td>3.7</td>\n",
       "      <td>241</td>\n",
       "    </tr>\n",
       "    <tr>\n",
       "      <th>1284877</th>\n",
       "      <td>tt9916270</td>\n",
       "      <td>5.8</td>\n",
       "      <td>1400</td>\n",
       "    </tr>\n",
       "    <tr>\n",
       "      <th>1284881</th>\n",
       "      <td>tt9916362</td>\n",
       "      <td>6.4</td>\n",
       "      <td>5205</td>\n",
       "    </tr>\n",
       "  </tbody>\n",
       "</table>\n",
       "<p>57061 rows × 3 columns</p>\n",
       "</div>"
      ],
      "text/plain": [
       "            tconst  averageRating  numVotes\n",
       "3537     tt0013274            6.6        49\n",
       "21759    tt0040241            7.7        16\n",
       "25052    tt0044326            6.8        75\n",
       "25524    tt0044879            6.4        18\n",
       "35800    tt0056840            6.8        95\n",
       "...            ...            ...       ...\n",
       "1284831  tt9914972            7.2       251\n",
       "1284867  tt9916128            6.5        86\n",
       "1284870  tt9916190            3.7       241\n",
       "1284877  tt9916270            5.8      1400\n",
       "1284881  tt9916362            6.4      5205\n",
       "\n",
       "[57061 rows x 3 columns]"
      ]
     },
     "execution_count": 20,
     "metadata": {},
     "output_type": "execute_result"
    }
   ],
   "source": [
    "title_rating_tmp_df"
   ]
  },
  {
   "cell_type": "code",
   "execution_count": 16,
   "id": "f4dfdebc",
   "metadata": {},
   "outputs": [],
   "source": [
    "title_rating_tmp_df.to_csv('all/title_rating.csv', index=False)"
   ]
  },
  {
   "cell_type": "markdown",
   "id": "59be5728",
   "metadata": {},
   "source": [
    "# principals"
   ]
  },
  {
   "cell_type": "code",
   "execution_count": 17,
   "id": "92e5600c",
   "metadata": {},
   "outputs": [],
   "source": [
    "title_principals_df = pd.read_csv(\"title.principals.tsv\", sep='\\t', header=0, low_memory=False, na_values = \"\\\\N\")"
   ]
  },
  {
   "cell_type": "code",
   "execution_count": 23,
   "id": "1f737202",
   "metadata": {},
   "outputs": [],
   "source": [
    "title_principals_tmp_df = title_principals_df[title_principals_df['tconst'].isin(tconst_lst)]"
   ]
  },
  {
   "cell_type": "code",
   "execution_count": 24,
   "id": "2fa1900d",
   "metadata": {},
   "outputs": [
    {
     "data": {
      "text/plain": [
       "(1532298, 6)"
      ]
     },
     "execution_count": 24,
     "metadata": {},
     "output_type": "execute_result"
    }
   ],
   "source": [
    "title_principals_tmp_df.shape\n"
   ]
  },
  {
   "cell_type": "code",
   "execution_count": 25,
   "id": "6d98d6cb",
   "metadata": {},
   "outputs": [
    {
     "data": {
      "text/plain": [
       "actor                  436314\n",
       "actress                293387\n",
       "director               190351\n",
       "self                   135904\n",
       "producer               118488\n",
       "cinematographer        107682\n",
       "composer                82083\n",
       "writer                  81036\n",
       "editor                  64412\n",
       "production_designer     12927\n",
       "archive_footage          9581\n",
       "archive_sound             133\n",
       "Name: category, dtype: int64"
      ]
     },
     "execution_count": 25,
     "metadata": {},
     "output_type": "execute_result"
    }
   ],
   "source": [
    "title_principals_tmp_df['category'].value_counts()\n"
   ]
  },
  {
   "cell_type": "code",
   "execution_count": 26,
   "id": "094d5caa",
   "metadata": {},
   "outputs": [
    {
     "data": {
      "text/html": [
       "<div>\n",
       "<style scoped>\n",
       "    .dataframe tbody tr th:only-of-type {\n",
       "        vertical-align: middle;\n",
       "    }\n",
       "\n",
       "    .dataframe tbody tr th {\n",
       "        vertical-align: top;\n",
       "    }\n",
       "\n",
       "    .dataframe thead th {\n",
       "        text-align: right;\n",
       "    }\n",
       "</style>\n",
       "<table border=\"1\" class=\"dataframe\">\n",
       "  <thead>\n",
       "    <tr style=\"text-align: right;\">\n",
       "      <th></th>\n",
       "      <th>tconst</th>\n",
       "      <th>ordering</th>\n",
       "      <th>nconst</th>\n",
       "      <th>category</th>\n",
       "      <th>job</th>\n",
       "      <th>characters</th>\n",
       "    </tr>\n",
       "  </thead>\n",
       "  <tbody>\n",
       "  </tbody>\n",
       "</table>\n",
       "</div>"
      ],
      "text/plain": [
       "Empty DataFrame\n",
       "Columns: [tconst, ordering, nconst, category, job, characters]\n",
       "Index: []"
      ]
     },
     "execution_count": 26,
     "metadata": {},
     "output_type": "execute_result"
    }
   ],
   "source": [
    "title_principals_tmp_df[title_principals_tmp_df['tconst'] == 'tt0011801']"
   ]
  },
  {
   "cell_type": "code",
   "execution_count": 18,
   "id": "cee319ea",
   "metadata": {},
   "outputs": [],
   "source": [
    "# title_principals_tmp_df = title_principals_tmp_df.drop(['job'], axis = 1)\n",
    "title_principals_tmp_df = title_principals_df.drop(['job'], axis = 1)"
   ]
  },
  {
   "cell_type": "code",
   "execution_count": 19,
   "id": "8076a5a8",
   "metadata": {},
   "outputs": [
    {
     "data": {
      "text/html": [
       "<div>\n",
       "<style scoped>\n",
       "    .dataframe tbody tr th:only-of-type {\n",
       "        vertical-align: middle;\n",
       "    }\n",
       "\n",
       "    .dataframe tbody tr th {\n",
       "        vertical-align: top;\n",
       "    }\n",
       "\n",
       "    .dataframe thead th {\n",
       "        text-align: right;\n",
       "    }\n",
       "</style>\n",
       "<table border=\"1\" class=\"dataframe\">\n",
       "  <thead>\n",
       "    <tr style=\"text-align: right;\">\n",
       "      <th></th>\n",
       "      <th>tconst</th>\n",
       "      <th>ordering</th>\n",
       "      <th>nconst</th>\n",
       "      <th>category</th>\n",
       "      <th>characters</th>\n",
       "    </tr>\n",
       "  </thead>\n",
       "  <tbody>\n",
       "    <tr>\n",
       "      <th>0</th>\n",
       "      <td>tt0000001</td>\n",
       "      <td>1</td>\n",
       "      <td>nm1588970</td>\n",
       "      <td>self</td>\n",
       "      <td>[\"Self\"]</td>\n",
       "    </tr>\n",
       "    <tr>\n",
       "      <th>1</th>\n",
       "      <td>tt0000001</td>\n",
       "      <td>2</td>\n",
       "      <td>nm0005690</td>\n",
       "      <td>director</td>\n",
       "      <td>NaN</td>\n",
       "    </tr>\n",
       "    <tr>\n",
       "      <th>2</th>\n",
       "      <td>tt0000001</td>\n",
       "      <td>3</td>\n",
       "      <td>nm0374658</td>\n",
       "      <td>cinematographer</td>\n",
       "      <td>NaN</td>\n",
       "    </tr>\n",
       "    <tr>\n",
       "      <th>3</th>\n",
       "      <td>tt0000002</td>\n",
       "      <td>1</td>\n",
       "      <td>nm0721526</td>\n",
       "      <td>director</td>\n",
       "      <td>NaN</td>\n",
       "    </tr>\n",
       "    <tr>\n",
       "      <th>4</th>\n",
       "      <td>tt0000002</td>\n",
       "      <td>2</td>\n",
       "      <td>nm1335271</td>\n",
       "      <td>composer</td>\n",
       "      <td>NaN</td>\n",
       "    </tr>\n",
       "    <tr>\n",
       "      <th>...</th>\n",
       "      <td>...</td>\n",
       "      <td>...</td>\n",
       "      <td>...</td>\n",
       "      <td>...</td>\n",
       "      <td>...</td>\n",
       "    </tr>\n",
       "    <tr>\n",
       "      <th>54911740</th>\n",
       "      <td>tt9916880</td>\n",
       "      <td>4</td>\n",
       "      <td>nm10535738</td>\n",
       "      <td>actress</td>\n",
       "      <td>[\"Horrid Henry\"]</td>\n",
       "    </tr>\n",
       "    <tr>\n",
       "      <th>54911741</th>\n",
       "      <td>tt9916880</td>\n",
       "      <td>5</td>\n",
       "      <td>nm0996406</td>\n",
       "      <td>director</td>\n",
       "      <td>NaN</td>\n",
       "    </tr>\n",
       "    <tr>\n",
       "      <th>54911742</th>\n",
       "      <td>tt9916880</td>\n",
       "      <td>6</td>\n",
       "      <td>nm1482639</td>\n",
       "      <td>writer</td>\n",
       "      <td>NaN</td>\n",
       "    </tr>\n",
       "    <tr>\n",
       "      <th>54911743</th>\n",
       "      <td>tt9916880</td>\n",
       "      <td>7</td>\n",
       "      <td>nm2586970</td>\n",
       "      <td>writer</td>\n",
       "      <td>NaN</td>\n",
       "    </tr>\n",
       "    <tr>\n",
       "      <th>54911744</th>\n",
       "      <td>tt9916880</td>\n",
       "      <td>8</td>\n",
       "      <td>nm1594058</td>\n",
       "      <td>producer</td>\n",
       "      <td>NaN</td>\n",
       "    </tr>\n",
       "  </tbody>\n",
       "</table>\n",
       "<p>54911745 rows × 5 columns</p>\n",
       "</div>"
      ],
      "text/plain": [
       "             tconst  ordering      nconst         category        characters\n",
       "0         tt0000001         1   nm1588970             self          [\"Self\"]\n",
       "1         tt0000001         2   nm0005690         director               NaN\n",
       "2         tt0000001         3   nm0374658  cinematographer               NaN\n",
       "3         tt0000002         1   nm0721526         director               NaN\n",
       "4         tt0000002         2   nm1335271         composer               NaN\n",
       "...             ...       ...         ...              ...               ...\n",
       "54911740  tt9916880         4  nm10535738          actress  [\"Horrid Henry\"]\n",
       "54911741  tt9916880         5   nm0996406         director               NaN\n",
       "54911742  tt9916880         6   nm1482639           writer               NaN\n",
       "54911743  tt9916880         7   nm2586970           writer               NaN\n",
       "54911744  tt9916880         8   nm1594058         producer               NaN\n",
       "\n",
       "[54911745 rows x 5 columns]"
      ]
     },
     "execution_count": 19,
     "metadata": {},
     "output_type": "execute_result"
    }
   ],
   "source": [
    "title_principals_tmp_df"
   ]
  },
  {
   "cell_type": "code",
   "execution_count": 20,
   "id": "296727e2",
   "metadata": {},
   "outputs": [
    {
     "data": {
      "text/html": [
       "<div>\n",
       "<style scoped>\n",
       "    .dataframe tbody tr th:only-of-type {\n",
       "        vertical-align: middle;\n",
       "    }\n",
       "\n",
       "    .dataframe tbody tr th {\n",
       "        vertical-align: top;\n",
       "    }\n",
       "\n",
       "    .dataframe thead th {\n",
       "        text-align: right;\n",
       "    }\n",
       "</style>\n",
       "<table border=\"1\" class=\"dataframe\">\n",
       "  <thead>\n",
       "    <tr style=\"text-align: right;\">\n",
       "      <th></th>\n",
       "      <th>tconst</th>\n",
       "      <th>ordering</th>\n",
       "      <th>nconst</th>\n",
       "      <th>category</th>\n",
       "      <th>characters</th>\n",
       "    </tr>\n",
       "  </thead>\n",
       "  <tbody>\n",
       "    <tr>\n",
       "      <th>1</th>\n",
       "      <td>tt0000001</td>\n",
       "      <td>2</td>\n",
       "      <td>nm0005690</td>\n",
       "      <td>director</td>\n",
       "      <td>NaN</td>\n",
       "    </tr>\n",
       "    <tr>\n",
       "      <th>3</th>\n",
       "      <td>tt0000002</td>\n",
       "      <td>1</td>\n",
       "      <td>nm0721526</td>\n",
       "      <td>director</td>\n",
       "      <td>NaN</td>\n",
       "    </tr>\n",
       "    <tr>\n",
       "      <th>5</th>\n",
       "      <td>tt0000003</td>\n",
       "      <td>1</td>\n",
       "      <td>nm0721526</td>\n",
       "      <td>director</td>\n",
       "      <td>NaN</td>\n",
       "    </tr>\n",
       "    <tr>\n",
       "      <th>8</th>\n",
       "      <td>tt0000003</td>\n",
       "      <td>4</td>\n",
       "      <td>nm5442200</td>\n",
       "      <td>editor</td>\n",
       "      <td>NaN</td>\n",
       "    </tr>\n",
       "    <tr>\n",
       "      <th>9</th>\n",
       "      <td>tt0000004</td>\n",
       "      <td>1</td>\n",
       "      <td>nm0721526</td>\n",
       "      <td>director</td>\n",
       "      <td>NaN</td>\n",
       "    </tr>\n",
       "    <tr>\n",
       "      <th>...</th>\n",
       "      <td>...</td>\n",
       "      <td>...</td>\n",
       "      <td>...</td>\n",
       "      <td>...</td>\n",
       "      <td>...</td>\n",
       "    </tr>\n",
       "    <tr>\n",
       "      <th>54911737</th>\n",
       "      <td>tt9916880</td>\n",
       "      <td>1</td>\n",
       "      <td>nm1483166</td>\n",
       "      <td>actor</td>\n",
       "      <td>[\"Rude Ralph\",\"Mischievous Mike\",\"Jolly Josh\"]</td>\n",
       "    </tr>\n",
       "    <tr>\n",
       "      <th>54911738</th>\n",
       "      <td>tt9916880</td>\n",
       "      <td>2</td>\n",
       "      <td>nm0254176</td>\n",
       "      <td>actress</td>\n",
       "      <td>[\"Moody Margaret\"]</td>\n",
       "    </tr>\n",
       "    <tr>\n",
       "      <th>54911739</th>\n",
       "      <td>tt9916880</td>\n",
       "      <td>3</td>\n",
       "      <td>nm0286175</td>\n",
       "      <td>actor</td>\n",
       "      <td>[\"Dad\",\"Aerobic Al\",\"Nasty Nicola\"]</td>\n",
       "    </tr>\n",
       "    <tr>\n",
       "      <th>54911740</th>\n",
       "      <td>tt9916880</td>\n",
       "      <td>4</td>\n",
       "      <td>nm10535738</td>\n",
       "      <td>actress</td>\n",
       "      <td>[\"Horrid Henry\"]</td>\n",
       "    </tr>\n",
       "    <tr>\n",
       "      <th>54911741</th>\n",
       "      <td>tt9916880</td>\n",
       "      <td>5</td>\n",
       "      <td>nm0996406</td>\n",
       "      <td>director</td>\n",
       "      <td>NaN</td>\n",
       "    </tr>\n",
       "  </tbody>\n",
       "</table>\n",
       "<p>29686073 rows × 5 columns</p>\n",
       "</div>"
      ],
      "text/plain": [
       "             tconst  ordering      nconst  category  \\\n",
       "1         tt0000001         2   nm0005690  director   \n",
       "3         tt0000002         1   nm0721526  director   \n",
       "5         tt0000003         1   nm0721526  director   \n",
       "8         tt0000003         4   nm5442200    editor   \n",
       "9         tt0000004         1   nm0721526  director   \n",
       "...             ...       ...         ...       ...   \n",
       "54911737  tt9916880         1   nm1483166     actor   \n",
       "54911738  tt9916880         2   nm0254176   actress   \n",
       "54911739  tt9916880         3   nm0286175     actor   \n",
       "54911740  tt9916880         4  nm10535738   actress   \n",
       "54911741  tt9916880         5   nm0996406  director   \n",
       "\n",
       "                                              characters  \n",
       "1                                                    NaN  \n",
       "3                                                    NaN  \n",
       "5                                                    NaN  \n",
       "8                                                    NaN  \n",
       "9                                                    NaN  \n",
       "...                                                  ...  \n",
       "54911737  [\"Rude Ralph\",\"Mischievous Mike\",\"Jolly Josh\"]  \n",
       "54911738                              [\"Moody Margaret\"]  \n",
       "54911739             [\"Dad\",\"Aerobic Al\",\"Nasty Nicola\"]  \n",
       "54911740                                [\"Horrid Henry\"]  \n",
       "54911741                                             NaN  \n",
       "\n",
       "[29686073 rows x 5 columns]"
      ]
     },
     "execution_count": 20,
     "metadata": {},
     "output_type": "execute_result"
    }
   ],
   "source": [
    "title_principals_tmp_df = title_principals_tmp_df[title_principals_tmp_df['category'].isin(['actor', 'actress', 'director', 'editor'])]\n",
    "\n",
    "title_principals_tmp_df\n"
   ]
  },
  {
   "cell_type": "code",
   "execution_count": 30,
   "id": "b75106f0",
   "metadata": {},
   "outputs": [
    {
     "data": {
      "text/plain": [
       "1     217079\n",
       "2     184038\n",
       "3     158049\n",
       "4     130209\n",
       "5     105569\n",
       "8      40356\n",
       "9      39658\n",
       "6      37578\n",
       "7      37323\n",
       "10     34605\n",
       "Name: ordering, dtype: int64"
      ]
     },
     "execution_count": 30,
     "metadata": {},
     "output_type": "execute_result"
    }
   ],
   "source": [
    "title_principals_tmp_df['ordering'].value_counts()"
   ]
  },
  {
   "cell_type": "code",
   "execution_count": 31,
   "id": "5195e2cf",
   "metadata": {},
   "outputs": [],
   "source": [
    "nconst_lst = list(set(title_principals_tmp_df['nconst'].tolist()))"
   ]
  },
  {
   "cell_type": "code",
   "execution_count": 21,
   "id": "4f2f923c",
   "metadata": {},
   "outputs": [],
   "source": [
    "title_principals_tmp_df.to_csv('all/title_principals.csv', index=False)"
   ]
  },
  {
   "cell_type": "markdown",
   "id": "bdf79c49",
   "metadata": {},
   "source": [
    "# title crew"
   ]
  },
  {
   "cell_type": "code",
   "execution_count": 22,
   "id": "8c791281",
   "metadata": {},
   "outputs": [],
   "source": [
    "title_crew_df = pd.read_csv(\"title.crew.tsv\", sep='\\t', header=0, low_memory=False, na_values = \"\\\\N\")"
   ]
  },
  {
   "cell_type": "code",
   "execution_count": 33,
   "id": "50813e9b",
   "metadata": {},
   "outputs": [
    {
     "data": {
      "text/plain": [
       "(9658791, 3)"
      ]
     },
     "execution_count": 33,
     "metadata": {},
     "output_type": "execute_result"
    }
   ],
   "source": [
    "title_crew_df.shape"
   ]
  },
  {
   "cell_type": "code",
   "execution_count": 34,
   "id": "19d96596",
   "metadata": {},
   "outputs": [],
   "source": [
    "title_crew_tmp_df = title_crew_df[title_crew_df['tconst'].isin(tconst_lst)]"
   ]
  },
  {
   "cell_type": "code",
   "execution_count": 35,
   "id": "4c113bad",
   "metadata": {},
   "outputs": [
    {
     "data": {
      "text/html": [
       "<div>\n",
       "<style scoped>\n",
       "    .dataframe tbody tr th:only-of-type {\n",
       "        vertical-align: middle;\n",
       "    }\n",
       "\n",
       "    .dataframe tbody tr th {\n",
       "        vertical-align: top;\n",
       "    }\n",
       "\n",
       "    .dataframe thead th {\n",
       "        text-align: right;\n",
       "    }\n",
       "</style>\n",
       "<table border=\"1\" class=\"dataframe\">\n",
       "  <thead>\n",
       "    <tr style=\"text-align: right;\">\n",
       "      <th></th>\n",
       "      <th>tconst</th>\n",
       "      <th>directors</th>\n",
       "      <th>writers</th>\n",
       "    </tr>\n",
       "  </thead>\n",
       "  <tbody>\n",
       "    <tr>\n",
       "      <th>13082</th>\n",
       "      <td>tt0013274</td>\n",
       "      <td>nm0412842,nm0895048</td>\n",
       "      <td>NaN</td>\n",
       "    </tr>\n",
       "    <tr>\n",
       "      <th>39545</th>\n",
       "      <td>tt0040241</td>\n",
       "      <td>nm0124722,nm0625934</td>\n",
       "      <td>NaN</td>\n",
       "    </tr>\n",
       "    <tr>\n",
       "      <th>43548</th>\n",
       "      <td>tt0044326</td>\n",
       "      <td>nm0124722,nm0625934</td>\n",
       "      <td>NaN</td>\n",
       "    </tr>\n",
       "    <tr>\n",
       "      <th>44090</th>\n",
       "      <td>tt0044879</td>\n",
       "      <td>nm0069548</td>\n",
       "      <td>NaN</td>\n",
       "    </tr>\n",
       "    <tr>\n",
       "      <th>55758</th>\n",
       "      <td>tt0056840</td>\n",
       "      <td>nm0626561</td>\n",
       "      <td>nm1600844,nm0626561,nm1600304</td>\n",
       "    </tr>\n",
       "    <tr>\n",
       "      <th>...</th>\n",
       "      <td>...</td>\n",
       "      <td>...</td>\n",
       "      <td>...</td>\n",
       "    </tr>\n",
       "    <tr>\n",
       "      <th>9657998</th>\n",
       "      <td>tt9915110</td>\n",
       "      <td>nm5225408</td>\n",
       "      <td>nm5225408</td>\n",
       "    </tr>\n",
       "    <tr>\n",
       "      <th>9658444</th>\n",
       "      <td>tt9916128</td>\n",
       "      <td>nm10254898</td>\n",
       "      <td>nm13746113,nm10254898,nm7129304,nm1822556</td>\n",
       "    </tr>\n",
       "    <tr>\n",
       "      <th>9658473</th>\n",
       "      <td>tt9916190</td>\n",
       "      <td>nm7308376</td>\n",
       "      <td>nm7308376</td>\n",
       "    </tr>\n",
       "    <tr>\n",
       "      <th>9658512</th>\n",
       "      <td>tt9916270</td>\n",
       "      <td>nm1480867</td>\n",
       "      <td>nm1480867,nm10538402</td>\n",
       "    </tr>\n",
       "    <tr>\n",
       "      <th>9658557</th>\n",
       "      <td>tt9916362</td>\n",
       "      <td>nm1893148</td>\n",
       "      <td>nm1893148,nm3471432</td>\n",
       "    </tr>\n",
       "  </tbody>\n",
       "</table>\n",
       "<p>266778 rows × 3 columns</p>\n",
       "</div>"
      ],
      "text/plain": [
       "            tconst            directors  \\\n",
       "13082    tt0013274  nm0412842,nm0895048   \n",
       "39545    tt0040241  nm0124722,nm0625934   \n",
       "43548    tt0044326  nm0124722,nm0625934   \n",
       "44090    tt0044879            nm0069548   \n",
       "55758    tt0056840            nm0626561   \n",
       "...            ...                  ...   \n",
       "9657998  tt9915110            nm5225408   \n",
       "9658444  tt9916128           nm10254898   \n",
       "9658473  tt9916190            nm7308376   \n",
       "9658512  tt9916270            nm1480867   \n",
       "9658557  tt9916362            nm1893148   \n",
       "\n",
       "                                           writers  \n",
       "13082                                          NaN  \n",
       "39545                                          NaN  \n",
       "43548                                          NaN  \n",
       "44090                                          NaN  \n",
       "55758                nm1600844,nm0626561,nm1600304  \n",
       "...                                            ...  \n",
       "9657998                                  nm5225408  \n",
       "9658444  nm13746113,nm10254898,nm7129304,nm1822556  \n",
       "9658473                                  nm7308376  \n",
       "9658512                       nm1480867,nm10538402  \n",
       "9658557                        nm1893148,nm3471432  \n",
       "\n",
       "[266778 rows x 3 columns]"
      ]
     },
     "execution_count": 35,
     "metadata": {},
     "output_type": "execute_result"
    }
   ],
   "source": [
    "title_crew_tmp_df"
   ]
  },
  {
   "cell_type": "code",
   "execution_count": 24,
   "id": "a712b142",
   "metadata": {},
   "outputs": [],
   "source": [
    "title_crew_df.to_csv('all/title_crew.csv', index=False)"
   ]
  },
  {
   "cell_type": "code",
   "execution_count": null,
   "id": "241e5ea9",
   "metadata": {},
   "outputs": [],
   "source": []
  },
  {
   "cell_type": "markdown",
   "id": "1c849830",
   "metadata": {},
   "source": [
    "# name basic"
   ]
  },
  {
   "cell_type": "code",
   "execution_count": 25,
   "id": "5dae7c76",
   "metadata": {},
   "outputs": [],
   "source": [
    "name_basics_df = pd.read_csv(\"name.basics.tsv\", sep='\\t', header=0, low_memory=False, na_values = \"\\\\N\")\n"
   ]
  },
  {
   "cell_type": "code",
   "execution_count": 4,
   "id": "8104d8cd",
   "metadata": {},
   "outputs": [
    {
     "data": {
      "text/plain": [
       "(12342313, 6)"
      ]
     },
     "execution_count": 4,
     "metadata": {},
     "output_type": "execute_result"
    }
   ],
   "source": [
    "name_basics_df.shape"
   ]
  },
  {
   "cell_type": "code",
   "execution_count": 5,
   "id": "523363c8",
   "metadata": {},
   "outputs": [
    {
     "ename": "NameError",
     "evalue": "name 'nconst_lst' is not defined",
     "output_type": "error",
     "traceback": [
      "\u001b[0;31m---------------------------------------------------------------------------\u001b[0m",
      "\u001b[0;31mNameError\u001b[0m                                 Traceback (most recent call last)",
      "\u001b[0;32m<ipython-input-5-e36c53b0f53d>\u001b[0m in \u001b[0;36m<module>\u001b[0;34m\u001b[0m\n\u001b[0;32m----> 1\u001b[0;31m \u001b[0mname_basics_tmp_df\u001b[0m \u001b[0;34m=\u001b[0m \u001b[0mname_basics_df\u001b[0m\u001b[0;34m[\u001b[0m\u001b[0mname_basics_df\u001b[0m\u001b[0;34m[\u001b[0m\u001b[0;34m'nconst'\u001b[0m\u001b[0;34m]\u001b[0m\u001b[0;34m.\u001b[0m\u001b[0misin\u001b[0m\u001b[0;34m(\u001b[0m\u001b[0mnconst_lst\u001b[0m\u001b[0;34m)\u001b[0m\u001b[0;34m]\u001b[0m\u001b[0;34m\u001b[0m\u001b[0;34m\u001b[0m\u001b[0m\n\u001b[0m",
      "\u001b[0;31mNameError\u001b[0m: name 'nconst_lst' is not defined"
     ]
    }
   ],
   "source": [
    "name_basics_tmp_df = name_basics_df[name_basics_df['nconst'].isin(nconst_lst)]"
   ]
  },
  {
   "cell_type": "code",
   "execution_count": null,
   "id": "38b7ccf8",
   "metadata": {},
   "outputs": [],
   "source": [
    "name_basics_tmp_df.head()"
   ]
  },
  {
   "cell_type": "code",
   "execution_count": 40,
   "id": "28a6f300",
   "metadata": {},
   "outputs": [],
   "source": [
    "name_basics_tmp_df.to_csv('partial/name_basics.csv', index=False)"
   ]
  },
  {
   "cell_type": "code",
   "execution_count": 26,
   "id": "2964b414",
   "metadata": {},
   "outputs": [],
   "source": [
    "name_basics_df.to_csv('all/name_basics.csv', index=False)"
   ]
  },
  {
   "cell_type": "code",
   "execution_count": null,
   "id": "ab51593d",
   "metadata": {},
   "outputs": [],
   "source": []
  },
  {
   "cell_type": "code",
   "execution_count": null,
   "id": "2b77a31f",
   "metadata": {},
   "outputs": [],
   "source": []
  },
  {
   "cell_type": "code",
   "execution_count": null,
   "id": "140ec492",
   "metadata": {},
   "outputs": [],
   "source": []
  },
  {
   "cell_type": "code",
   "execution_count": null,
   "id": "7bb00301",
   "metadata": {},
   "outputs": [],
   "source": []
  }
 ],
 "metadata": {
  "kernelspec": {
   "display_name": "Python [conda env:py36] *",
   "language": "python",
   "name": "conda-env-py36-py"
  },
  "language_info": {
   "codemirror_mode": {
    "name": "ipython",
    "version": 3
   },
   "file_extension": ".py",
   "mimetype": "text/x-python",
   "name": "python",
   "nbconvert_exporter": "python",
   "pygments_lexer": "ipython3",
   "version": "3.6.12"
  }
 },
 "nbformat": 4,
 "nbformat_minor": 5
}
